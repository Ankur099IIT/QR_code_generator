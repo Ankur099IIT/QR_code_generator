{
  "nbformat": 4,
  "nbformat_minor": 0,
  "metadata": {
    "colab": {
      "name": "QR_code_generator.ipynb",
      "provenance": [],
      "collapsed_sections": [],
      "authorship_tag": "ABX9TyPT04rJaUCYuM7S4zrwPARc",
      "include_colab_link": true
    },
    "kernelspec": {
      "name": "python3",
      "display_name": "Python 3"
    },
    "language_info": {
      "name": "python"
    }
  },
  "cells": [
    {
      "cell_type": "markdown",
      "metadata": {
        "id": "view-in-github",
        "colab_type": "text"
      },
      "source": [
        "<a href=\"https://colab.research.google.com/github/Ankur099IIT/QR_code_generator/blob/main/QR_code_generator.ipynb\" target=\"_parent\"><img src=\"https://colab.research.google.com/assets/colab-badge.svg\" alt=\"Open In Colab\"/></a>"
      ]
    },
    {
      "cell_type": "code",
      "execution_count": null,
      "metadata": {
        "id": "B1NbNq0WdSHk"
      },
      "outputs": [],
      "source": [
        "!pip install qrcode"
      ]
    },
    {
      "cell_type": "code",
      "source": [
        "import qrcode\n",
        "\n",
        "## Input URL here\n",
        "\n",
        "input_URL = \"https://www.linkedin.com/in/ankur-tiwari-265218154/\" \n",
        "\n",
        "## version  controls the size of the QR Code (value ranges 1 to 40), \n",
        "## The error_correction parameter controls the error correction used for the QR Code\n",
        "## The box_size parameter controls how many pixels each “box” of the QR code is.\n",
        "## The border parameter controls how many boxes thick the border should be\n",
        "\n",
        "qr = qrcode.QRCode(\n",
        "    version=1,\n",
        "    error_correction=qrcode.constants.ERROR_CORRECT_L,\n",
        "    box_size=15,\n",
        "    border=4,) \n",
        "\n",
        "\n",
        "\n",
        "qr.add_data(input_URL)\n",
        "qr.make(fit=True)\n",
        "\n",
        "## colour of qr code and its background colour\n",
        "\n",
        "img = qr.make_image(fill_color=\"purple\", back_color=\"yellow\") \n",
        "\n",
        "## saving the qr code\n",
        "\n",
        "img.save(\"my_qrcode.png\") \n",
        "\n",
        "print(qr.data_list)"
      ],
      "metadata": {
        "id": "HI3kq6KAl2xj"
      },
      "execution_count": null,
      "outputs": []
    }
  ]
}