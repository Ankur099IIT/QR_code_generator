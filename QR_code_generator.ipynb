{
  "nbformat": 4,
  "nbformat_minor": 0,
  "metadata": {
    "colab": {
      "name": "QR_code_generator.ipynb",
      "provenance": [],
      "authorship_tag": "ABX9TyP8yYWhJNows6jU3VwgAFyj",
      "include_colab_link": true
    },
    "kernelspec": {
      "name": "python3",
      "display_name": "Python 3"
    },
    "language_info": {
      "name": "python"
    }
  },
  "cells": [
    {
      "cell_type": "markdown",
      "metadata": {
        "id": "view-in-github",
        "colab_type": "text"
      },
      "source": [
        "<a href=\"https://colab.research.google.com/github/Ankur099IIT/QR_code_generator/blob/main/QR_code_generator.ipynb\" target=\"_parent\"><img src=\"https://colab.research.google.com/assets/colab-badge.svg\" alt=\"Open In Colab\"/></a>"
      ]
    },
    {
      "cell_type": "code",
      "execution_count": 4,
      "metadata": {
        "colab": {
          "base_uri": "https://localhost:8080/"
        },
        "id": "B1NbNq0WdSHk",
        "outputId": "e9efe338-857c-460e-a18a-a9a3fb2a0f4f"
      },
      "outputs": [
        {
          "output_type": "stream",
          "name": "stdout",
          "text": [
            "Collecting qrcode\n",
            "  Downloading qrcode-7.3.1.tar.gz (43 kB)\n",
            "\u001b[?25l\r\u001b[K     |███████▌                        | 10 kB 19.8 MB/s eta 0:00:01\r\u001b[K     |███████████████                 | 20 kB 9.0 MB/s eta 0:00:01\r\u001b[K     |██████████████████████▋         | 30 kB 9.2 MB/s eta 0:00:01\r\u001b[K     |██████████████████████████████▏ | 40 kB 8.4 MB/s eta 0:00:01\r\u001b[K     |████████████████████████████████| 43 kB 1.0 MB/s \n",
            "\u001b[?25hBuilding wheels for collected packages: qrcode\n",
            "  Building wheel for qrcode (setup.py) ... \u001b[?25l\u001b[?25hdone\n",
            "  Created wheel for qrcode: filename=qrcode-7.3.1-py3-none-any.whl size=40402 sha256=5abb939006133c53f8df28998e404858135764f277c9880f4bf0e82fe44720ce\n",
            "  Stored in directory: /root/.cache/pip/wheels/93/d7/39/a4111be2cfb8e679938aa671a37888b6afb1f9e7d748e94492\n",
            "Successfully built qrcode\n",
            "Installing collected packages: qrcode\n",
            "Successfully installed qrcode-7.3.1\n"
          ]
        }
      ],
      "source": [
        "!pip install qrcode"
      ]
    },
    {
      "cell_type": "code",
      "source": [
        "import qrcode\n",
        "\n",
        "input_URL = \"https://www.google.com/\"\n",
        "\n",
        "qr = qrcode.QRCode(\n",
        "    version=1,\n",
        "    error_correction=qrcode.constants.ERROR_CORRECT_L,\n",
        "    box_size=15,\n",
        "    border=4,\n",
        ")\n",
        "\n",
        "qr.add_data(input_URL)\n",
        "qr.make(fit=True)\n",
        "\n",
        "img = qr.make_image(fill_color=\"red\", back_color=\"white\")\n",
        "img.save(\"url_qrcode.png\")\n",
        "\n",
        "print(qr.data_list)"
      ],
      "metadata": {
        "id": "HI3kq6KAl2xj",
        "outputId": "b4d399b6-dd9a-4223-de8e-08d8ac91f449",
        "colab": {
          "base_uri": "https://localhost:8080/"
        }
      },
      "execution_count": 5,
      "outputs": [
        {
          "output_type": "stream",
          "name": "stdout",
          "text": [
            "[b'https://www.google.com/']\n"
          ]
        }
      ]
    }
  ]
}